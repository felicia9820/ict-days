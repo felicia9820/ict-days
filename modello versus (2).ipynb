{
 "cells": [
  {
   "cell_type": "code",
   "execution_count": 3,
   "metadata": {
    "colab": {
     "base_uri": "https://localhost:8080/",
     "height": 368
    },
    "colab_type": "code",
    "executionInfo": {
     "elapsed": 991,
     "status": "error",
     "timestamp": 1536260863784,
     "user": {
      "displayName": "lorenzo franchini",
      "photoUrl": "https://lh3.googleusercontent.com/a/default-user=s128",
      "userId": "106811071997545702041"
     },
     "user_tz": -120
    },
    "id": "WhnVT6FASAvf",
    "outputId": "4c2dc6bb-0430-4b47-8354-9564342231e1"
   },
   "outputs": [
    {
     "data": {
      "application/vnd.jupyter.widget-view+json": {
       "model_id": "7c69bc1d5e6a45428ad12473a15b3f14",
       "version_major": 2,
       "version_minor": 0
      },
      "text/plain": [
       "Dropdown(description='Prima squadra:', options=('Uruguay', 'Portugal', 'France', 'Argentina', 'Brazil', 'Mexic…"
      ]
     },
     "metadata": {},
     "output_type": "display_data"
    },
    {
     "data": {
      "application/vnd.jupyter.widget-view+json": {
       "model_id": "ce0b4877b69146578d10be7a2dc28f5e",
       "version_major": 2,
       "version_minor": 0
      },
      "text/plain": [
       "Dropdown(description='Seconda squadra:', options=('Uruguay', 'Portugal', 'France', 'Argentina', 'Brazil', 'Mex…"
      ]
     },
     "metadata": {},
     "output_type": "display_data"
    },
    {
     "data": {
      "application/vnd.jupyter.widget-view+json": {
       "model_id": "148efcdab7dc4634bd4efe9d3e5706ee",
       "version_major": 2,
       "version_minor": 0
      },
      "text/plain": [
       "Button(description='Click me', icon='check', style=ButtonStyle(), tooltip='Click me')"
      ]
     },
     "metadata": {},
     "output_type": "display_data"
    },
    {
     "data": {
      "application/vnd.jupyter.widget-view+json": {
       "model_id": "eaf89e14ccba46dc96ef6f1dd3c5c4f8",
       "version_major": 2,
       "version_minor": 0
      },
      "text/plain": [
       "Button(description='Show ranking', icon='check', style=ButtonStyle(), tooltip='Show ranking')"
      ]
     },
     "metadata": {},
     "output_type": "display_data"
    },
    {
     "name": "stdout",
     "output_type": "stream",
     "text": [
      "\n",
      "\n",
      "\n",
      "\n",
      "\u001b[1mBrazil versus Uruguay\u001b[0m\n",
      "\n",
      "\n",
      "The probability of team Brazil achieving victory is 82.7%\n",
      "The probability of team Uruguay achieving victory is 17.3%\n",
      "\n",
      "\n",
      "\n",
      "\n"
     ]
    },
    {
     "data": {
      "image/png": "[encoded data removed]",
      "text/plain": [
       "<Figure size 432x288 with 2 Axes>"
      ]
     },
     "metadata": {
      "needs_background": "light"
     },
     "output_type": "display_data"
    }
   ],
   "source": [
    "import ipywidgets as widgets\n",
    "from IPython.display import display\n",
    "\n",
    "import matplotlib.pyplot as plt\n",
    "import numpy as np\n",
    "\n",
    "class color:\n",
    "   PURPLE = '\\033[95m'\n",
    "   CYAN = '\\033[96m'\n",
    "   DARKCYAN = '\\033[36m'\n",
    "   BLUE = '\\033[94m'\n",
    "   GREEN = '\\033[92m'\n",
    "   YELLOW = '\\033[93m'\n",
    "   RED = '\\033[91m'\n",
    "   BOLD = '\\033[1m'\n",
    "   UNDERLINE = '\\033[4m'\n",
    "   END = '\\033[0m'\n",
    "\n",
    "ranking = {\"Uruguay\": 14, \"Portugal\": 4, \"France\": 7, \"Argentina\": 5, \n",
    "           \"Brazil\": 2, \"Mexico\": 15, \"Belgium\": 3, \"Japan\": 61,\n",
    "           \"Spain\": 10, \"Russia\": 70, \"Croatia\": 20, \"Denmark\": 13, \n",
    "           \"Sweden\": 24, \"Switzerland\": 6, \"Colombia\": 16, \"England\": 12}\n",
    "points = {\"Uruguay\": 9, \"Portugal\": 5, \"France\": 7, \"Argentina\": 4, \n",
    "           \"Brazil\": 7, \"Mexico\": 6, \"Belgium\": 9, \"Japan\": 4,\n",
    "           \"Spain\": 5, \"Russia\": 6, \"Croatia\": 9, \"Denmark\": 5, \n",
    "           \"Sweden\": 6, \"Switzerland\": 5, \"Colombia\": 6, \"England\": 6}\n",
    "matches_ottavi = [[\"Uruguay\", \"Portugal\"], [\"France\", \"Argentina\"], \n",
    "           [\"Brazil\", \"Mexico\"], [\"Belgium\", \"Japan\"],\n",
    "           [\"Spain\", \"Russia\"], [\"Croatia\", \"Denmark\"], \n",
    "           [\"Sweden\", \"Switzerland\"], [\"Colombia\", \"England\"]]\n",
    "teams = [\"Uruguay\", \"Portugal\", \"France\", \"Argentina\", \n",
    "           \"Brazil\", \"Mexico\", \"Belgium\", \"Japan\",\n",
    "           \"Spain\", \"Russia\", \"Croatia\", \"Denmark\", \n",
    "           \"Sweden\", \"Switzerland\", \"Colombia\", \"England\"]\n",
    "dr_ottavi = {\"Uruguay\": 8, \"Portugal\": 4, \"France\": 5, \"Argentina\": 1, \n",
    "           \"Brazil\": 7, \"Mexico\": 2, \"Belgium\": 10, \"Japan\": 3,\n",
    "           \"Spain\": 2, \"Russia\": 7, \"Croatia\": 9, \"Denmark\": 4, \n",
    "           \"Sweden\": 6, \"Switzerland\": 4, \"Colombia\": 6, \"England\": 8}\n",
    "total_goals = {\"Uruguay\": 5, \"Portugal\": 5, \"France\": 3, \"Argentina\": 3, \n",
    "           \"Brazil\": 1, \"Mexico\": 3, \"Belgium\": 9, \"Japan\": 4,\n",
    "           \"Spain\": 6, \"Russia\": 8, \"Croatia\": 7, \"Denmark\": 2, \n",
    "           \"Sweden\": 5, \"Switzerland\": 4, \"Colombia\": 5, \"England\": 8}\n",
    "infortuni = {\"Uruguay\": 2, \"Portugal\": 0, \"France\": 0, \"Argentina\": 2, \n",
    "           \"Brazil\": 0, \"Mexico\": 1, \"Belgium\": 0, \"Japan\": 1,\n",
    "           \"Spain\": 0, \"Russia\": 0, \"Croatia\": 0, \"Denmark\": 0, \n",
    "           \"Sweden\": 1, \"Switzerland\": 2, \"Colombia\": 2, \"England\": 0}\n",
    "team1 = widgets.Dropdown(options=teams, description='Prima squadra:', disabled=False)\n",
    "team2 = widgets.Dropdown(options=teams, description='Seconda squadra:', disabled=False)\n",
    "\n",
    "\n",
    "def get_result1(squadra1):\n",
    "    first_team = ranking[squadra1]\n",
    "    \n",
    "    dr_first = dr_ottavi[squadra1]\n",
    "    \n",
    "    points_first = points[squadra1]\n",
    "   \n",
    "    first_result = (((dr_first / first_team) * points_first)) \n",
    "    \n",
    "    return first_result\n",
    "  \n",
    "def get_result2(squadra2):\n",
    "    second_team = ranking[squadra2]\n",
    "    \n",
    "    dr_second = dr_ottavi[squadra2]\n",
    "    \n",
    "    points_second = points[squadra2]\n",
    "    \n",
    "    second_result = (((dr_second / second_team) * points_second))\n",
    "    \n",
    "    return second_result\n",
    "\n",
    "\n",
    "def get_percentage(first1_result, second2_result, squadra1, squadra2):\n",
    "    get_percentage.percent_win_1 = round((100 * first1_result) / (first1_result + second2_result), 1)\n",
    "    get_percentage.percent_win_2 = round((100 * second2_result) / (first1_result + second2_result), 1)\n",
    "    \n",
    "    print(\"\\n\")\n",
    "    print(\"\\n\")\n",
    "    print(color.BOLD + \"{squadra1} versus {squadra2}\".format(squadra1=squadra1,squadra2=squadra2) + color.END)\n",
    "    print(\"\\n\")\n",
    "    print(\"The probability of team {squadra1} achieving victory is {percent1}%\".format(squadra1=squadra1, percent1=get_percentage.percent_win_1)) \n",
    "    print(\"The probability of team {squadra2} achieving victory is {percent2}%\".format(squadra2=squadra2, percent2=get_percentage.percent_win_2))\n",
    "    print(\"\\n\")\n",
    "    print(\"\\n\")\n",
    "\n",
    "    \n",
    "    \n",
    "def button_clicked(self):\n",
    "    squadra_one = team1.value\n",
    "    squadra_two = team2.value\n",
    "    \n",
    "    try:\n",
    "        total1 = get_result1(squadra_one)\n",
    "        total2 = get_result2(squadra_two)\n",
    "        get_percentage(total1, total2, squadra_one, squadra_two)\n",
    "        \n",
    "        labels = [squadra_one, squadra_two]\n",
    "        y = [get_percentage.percent_win_1, get_percentage.percent_win_2]\n",
    "        \n",
    "\n",
    "        fig, (ax1, ax2) = plt.subplots(ncols=2)\n",
    "        ax1.pie(y, labels=labels, autopct='%1.1f%%', startangle=90)\n",
    "        ax1.set_title(\"Probability of victory\")\n",
    "\n",
    "        xticks = [1,2] \n",
    "\n",
    "        ax2.bar(xticks,y, color=['b','r'], width=0.3, align=\"center\")\n",
    "        ax2.set_title(\"Probability of victory\")\n",
    "        ax2.set_xticklabels(labels)  \n",
    "        ax2.set_xticks(xticks)\n",
    "\n",
    "        fig.tight_layout()\n",
    "        plt.show()\n",
    "        \n",
    "    except KeyError:\n",
    "        print(\"The team you've entered doesn't exist. Try again...\")\n",
    "        start()\n",
    "        \n",
    "def start1():\n",
    "    \n",
    "    button = widgets.Button(\n",
    "        description='Click me',\n",
    "        disabled=False,\n",
    "        button_style='', # 'success', 'info', 'warning', 'danger' or ''\n",
    "        tooltip='Click me',\n",
    "        icon='check'\n",
    "    )\n",
    "    \n",
    "    display(team1)\n",
    "    display(team2)\n",
    "    display(button)\n",
    "    \n",
    "    button.on_click(button_clicked)\n",
    "#     interact(button_clicked)\n",
    "      \n",
    "start1()\n",
    "\n",
    "def get_ranking():\n",
    "    ranking_total = {}  \n",
    "    for team in teams:\n",
    "        points = round(get_result1(team), 2)\n",
    "        ranking_total[team] = points\n",
    "    return(ranking_total)\n",
    "    \n",
    "sorted_by_value = sorted(get_ranking().items(), key=lambda kv: kv[1])\n",
    "\n",
    "\n",
    "new_ranking = []\n",
    "for i in range(len(sorted_by_value)):\n",
    "    new_ranking.append(sorted_by_value[-1])\n",
    "    sorted_by_value.remove(sorted_by_value[-1])\n",
    "    \n",
    "\n",
    "def button_clicked(self):\n",
    "    for item in new_ranking:\n",
    "        if len(item[0]) == 11:\n",
    "            print(*item, sep = \"          \")\n",
    "        elif len(item[0]) == 10:\n",
    "            print(*item, sep = \"           \")\n",
    "        elif len(item[0]) == 9:\n",
    "            print(*item, sep = \"            \")\n",
    "        elif len(item[0]) == 8:\n",
    "            print(*item, sep = \"             \")\n",
    "        elif len(item[0]) == 7:\n",
    "            print(*item, sep = \"              \")\n",
    "        elif len(item[0]) == 6:\n",
    "            print(*item, sep = \"               \")\n",
    "        elif len(item[0]) == 5:\n",
    "            print(*item, sep = \"                \")\n",
    "        \n",
    "def start():\n",
    "    \n",
    "    button = widgets.Button(\n",
    "        description='Show ranking',\n",
    "        disabled=False,\n",
    "        button_style='', \n",
    "        tooltip='Show ranking',\n",
    "        icon='check'\n",
    "    )\n",
    "    \n",
    "    display(button)\n",
    "    \n",
    "    button.on_click(button_clicked)\n",
    "      \n",
    "start()"
   ]
  },
  {
   "cell_type": "code",
   "execution_count": 0,
   "metadata": {
    "colab": {},
    "colab_type": "code",
    "id": "Rkf5uHL3oCo4"
   },
   "outputs": [],
   "source": []
  }
 ],
 "metadata": {
  "colab": {
   "name": "modello versus.ipynb",
   "provenance": [],
   "version": "0.3.2"
  },
  "kernelspec": {
   "display_name": "Python 3",
   "language": "python",
   "name": "python3"
  },
  "language_info": {
   "codemirror_mode": {
    "name": "ipython",
    "version": 3
   },
   "file_extension": ".py",
   "mimetype": "text/x-python",
   "name": "python",
   "nbconvert_exporter": "python",
   "pygments_lexer": "ipython3",
   "version": "3.7.4"
  }
 },
 "nbformat": 4,
 "nbformat_minor": 1
}
