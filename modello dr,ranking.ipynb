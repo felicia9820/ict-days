{
 "cells": [
  {
   "cell_type": "code",
   "execution_count": 5,
   "metadata": {},
   "outputs": [
    {
     "name": "stdout",
     "output_type": "stream",
     "text": [
      "Uruguay\n",
      "France\n",
      "Brazil\n",
      "Belgium\n",
      "Russia\n",
      "Croatia\n",
      "Switzerland\n",
      "England\n",
      "\n",
      "\n",
      "France\n",
      "Brazil\n",
      "Croatia\n",
      "England\n",
      "\n",
      "\n",
      "Belgium\n",
      "England\n"
     ]
    }
   ],
   "source": [
    "ranking = {\"Uruguay\": 14, \"Portugal\": 4, \"France\": 7, \"Argentina\": 5, \n",
    "           \"Brazil\": 2, \"Mexico\": 15, \"Belgium\": 3, \"Japan\": 61,\n",
    "           \"Spain\": 10, \"Russia\": 70, \"Croatia\": 20, \"Denmark\": 13, \n",
    "           \"Sweden\": 24, \"Switzerland\": 6, \"Colombia\": 16, \"England\": 12}\n",
    "matches_ottavi = [[\"Uruguay\", \"Portugal\"], [\"France\", \"Argentina\"], \n",
    "           [\"Brazil\", \"Mexico\"], [\"Belgium\", \"Japan\"],\n",
    "           [\"Spain\", \"Russia\"], [\"Croatia\", \"Denmark\"], \n",
    "           [\"Sweden\", \"Switzerland\"], [\"Colombia\", \"England\"]]\n",
    "dr_ottavi = {\"Uruguay\": 5, \"Portugal\": 1, \"France\": 2, \"Argentina\": -2, \n",
    "           \"Brazil\": 4, \"Mexico\": -1, \"Belgium\": 7, \"Japan\": 0,\n",
    "           \"Spain\": -1, \"Russia\": 4, \"Croatia\": 6, \"Denmark\": 1, \n",
    "           \"Sweden\": 3, \"Switzerland\": 1, \"Colombia\": 3, \"England\": 5}\n",
    "for match in matches_ottavi:\n",
    "    first_team = ranking[match[0]]\n",
    "    second_team = ranking[match[1]]\n",
    "    dr_first = dr_ottavi[match[0]]\n",
    "    dr_second = dr_ottavi[match[1]]\n",
    "    if((dr_first / first_team) > (dr_second / second_team)):\n",
    "        print(match[0])\n",
    "    else:\n",
    "        print(match[1])\n",
    "\n",
    "print(\"\\n\")\n",
    "dr_quarti = {\"Uruguay\": 6, \"France\": 3, \"Brazil\": 6, \"Belgium\": 8, \"Russia\": 4, \"Croatia\": 6, \n",
    "           \"Sweden\": 4, \"England\": 5}\n",
    "matches_quarti = [[\"Uruguay\", \"France\"], [\"Brazil\", \"Belgium\"], [\"Russia\", \"Croatia\"], [\"Sweden\", \"England\"]]\n",
    "for match in matches_quarti:\n",
    "    first_team = ranking[match[0]]\n",
    "    second_team = ranking[match[1]]\n",
    "    dr_first = dr_quarti[match[0]]\n",
    "    dr_second = dr_quarti[match[1]]\n",
    "    if((dr_first / first_team) > (dr_second / second_team)):\n",
    "        print(match[0])\n",
    "    else:\n",
    "        print(match[1])\n",
    "    \n",
    "print(\"\\n\")\n",
    "dr_semi = {\"France\": 3, \"Belgium\": 8, \"Croatia\": 6, \"England\": 5}\n",
    "matches_semi = [[\"France\", \"Belgium\"], [\"Croatia\", \"England\"]]\n",
    "for match in matches_semi:\n",
    "    first_team = ranking[match[0]]\n",
    "    second_team = ranking[match[1]]\n",
    "    dr_first = dr_semi[match[0]]\n",
    "    dr_second = dr_semi[match[1]]\n",
    "    if((dr_first / first_team) > (dr_second / second_team)):\n",
    "        print(match[0])\n",
    "    else:\n",
    "        print(match[1])\n",
    "    \n",
    "    "
   ]
  },
  {
   "cell_type": "code",
   "execution_count": null,
   "metadata": {},
   "outputs": [],
   "source": []
  }
 ],
 "metadata": {
  "kernelspec": {
   "display_name": "Python 3",
   "language": "python",
   "name": "python3"
  },
  "language_info": {
   "codemirror_mode": {
    "name": "ipython",
    "version": 3
   },
   "file_extension": ".py",
   "mimetype": "text/x-python",
   "name": "python",
   "nbconvert_exporter": "python",
   "pygments_lexer": "ipython3",
   "version": "3.6.5"
  }
 },
 "nbformat": 4,
 "nbformat_minor": 2
}
