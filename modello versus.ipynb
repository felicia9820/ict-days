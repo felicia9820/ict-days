{
 "cells": [
  {
   "cell_type": "code",
   "execution_count": 1,
   "metadata": {
    "colab": {
     "base_uri": "https://localhost:8080/",
     "height": 368
    },
    "colab_type": "code",
    "executionInfo": {
     "elapsed": 991,
     "status": "error",
     "timestamp": 1536260863784,
     "user": {
      "displayName": "lorenzo franchini",
      "photoUrl": "https://lh3.googleusercontent.com/a/default-user=s128",
      "userId": "106811071997545702041"
     },
     "user_tz": -120
    },
    "id": "WhnVT6FASAvf",
    "outputId": "4c2dc6bb-0430-4b47-8354-9564342231e1"
   },
   "outputs": [
    {
     "data": {
      "application/vnd.jupyter.widget-view+json": {
       "model_id": "793b8ae044774903b26689bb014ebc86",
       "version_major": 2,
       "version_minor": 0
      },
      "text/plain": [
       "Dropdown(description='Prima squadra:', options=('Uruguay', 'Portugal', 'France', 'Argentina', 'Brazil', 'Mexic…"
      ]
     },
     "metadata": {},
     "output_type": "display_data"
    },
    {
     "data": {
      "application/vnd.jupyter.widget-view+json": {
       "model_id": "e0f60a6c71df47a5abdf8929541c2674",
       "version_major": 2,
       "version_minor": 0
      },
      "text/plain": [
       "Dropdown(description='Seconda squadra:', options=('Uruguay', 'Portugal', 'France', 'Argentina', 'Brazil', 'Mex…"
      ]
     },
     "metadata": {},
     "output_type": "display_data"
    },
    {
     "data": {
      "application/vnd.jupyter.widget-view+json": {
       "model_id": "6d354cd2852d444c8b1d0e8d9bd6abbe",
       "version_major": 2,
       "version_minor": 0
      },
      "text/plain": [
       "Button(description='Click me', icon='check', style=ButtonStyle(), tooltip='Click me')"
      ]
     },
     "metadata": {},
     "output_type": "display_data"
    },
    {
     "name": "stdout",
     "output_type": "stream",
     "text": [
      "The probability of team Belgium achieving victory is 94.5%\n",
      "The probability of team Uruguay achieving victory is 5.5%\n",
      "The probability of team Belgium achieving victory is 88.6%\n",
      "The probability of team Croatia achieving victory is 11.4%\n"
     ]
    }
   ],
   "source": [
    "import ipywidgets as widgets\n",
    "from IPython.display import display\n",
    "\n",
    "ranking = {\"Uruguay\": 14, \"Portugal\": 4, \"France\": 7, \"Argentina\": 5, \n",
    "           \"Brazil\": 2, \"Mexico\": 15, \"Belgium\": 3, \"Japan\": 61,\n",
    "           \"Spain\": 10, \"Russia\": 70, \"Croatia\": 20, \"Denmark\": 13, \n",
    "           \"Sweden\": 24, \"Switzerland\": 6, \"Colombia\": 16, \"England\": 12}\n",
    "points = {\"Uruguay\": 9, \"Portugal\": 5, \"France\": 7, \"Argentina\": 4, \n",
    "           \"Brazil\": 7, \"Mexico\": 6, \"Belgium\": 9, \"Japan\": 4,\n",
    "           \"Spain\": 5, \"Russia\": 6, \"Croatia\": 9, \"Denmark\": 5, \n",
    "           \"Sweden\": 6, \"Switzerland\": 5, \"Colombia\": 6, \"England\": 6}\n",
    "matches_ottavi = [[\"Uruguay\", \"Portugal\"], [\"France\", \"Argentina\"], \n",
    "           [\"Brazil\", \"Mexico\"], [\"Belgium\", \"Japan\"],\n",
    "           [\"Spain\", \"Russia\"], [\"Croatia\", \"Denmark\"], \n",
    "           [\"Sweden\", \"Switzerland\"], [\"Colombia\", \"England\"]]\n",
    "teams = [\"Uruguay\", \"Portugal\", \"France\", \"Argentina\", \n",
    "           \"Brazil\", \"Mexico\", \"Belgium\", \"Japan\",\n",
    "           \"Spain\", \"Russia\", \"Croatia\", \"Denmark\", \n",
    "           \"Sweden\", \"Switzerland\", \"Colombia\", \"England\"]\n",
    "dr_ottavi = {\"Uruguay\": 5, \"Portugal\": 1, \"France\": 2, \"Argentina\": -2, \n",
    "           \"Brazil\": 4, \"Mexico\": -1, \"Belgium\": 7, \"Japan\": 0,\n",
    "           \"Spain\": -1, \"Russia\": 4, \"Croatia\": 6, \"Denmark\": 1, \n",
    "           \"Sweden\": 3, \"Switzerland\": 1, \"Colombia\": 3, \"England\": 5}\n",
    "total_goals = {\"Uruguay\": 5, \"Portugal\": 5, \"France\": 3, \"Argentina\": 3, \n",
    "           \"Brazil\": 1, \"Mexico\": 3, \"Belgium\": 9, \"Japan\": 4,\n",
    "           \"Spain\": 6, \"Russia\": 8, \"Croatia\": 7, \"Denmark\": 2, \n",
    "           \"Sweden\": 5, \"Switzerland\": 4, \"Colombia\": 5, \"England\": 8}\n",
    "infortuni = {\"Uruguay\": 2, \"Portugal\": 0, \"France\": 0, \"Argentina\": 2, \n",
    "           \"Brazil\": 0, \"Mexico\": 1, \"Belgium\": 0, \"Japan\": 1,\n",
    "           \"Spain\": 0, \"Russia\": 0, \"Croatia\": 0, \"Denmark\": 0, \n",
    "           \"Sweden\": 1, \"Switzerland\": 2, \"Colombia\": 2, \"England\": 0}\n",
    "team1 = widgets.Dropdown(options=teams, description='Prima squadra:', disabled=False)\n",
    "team2 = widgets.Dropdown(options=teams, description='Seconda squadra:', disabled=False)\n",
    "\n",
    "\n",
    "def get_result1(squadra1, squadra2):\n",
    "    first_team = ranking[squadra1]\n",
    "    second_team = ranking[squadra2]\n",
    "    dr_first = dr_ottavi[squadra1]\n",
    "    dr_second = dr_ottavi[squadra2]\n",
    "    points_first = points[squadra1]\n",
    "    points_second = points[squadra2]\n",
    "    goals_first = total_goals[squadra1]\n",
    "    goals_second = total_goals[squadra2]\n",
    "    inf_1 = infortuni[squadra1]\n",
    "    inf_2 = infortuni[squadra2]\n",
    "   \n",
    "    first_result = (((dr_first / first_team) * points_first) - inf_1) \n",
    "    second_result = (((dr_second / second_team) * points_second) - inf_2)\n",
    "    \n",
    "    return first_result\n",
    "  \n",
    "def get_result2(squadra1, squadra2):\n",
    "    first_team = ranking[squadra1]\n",
    "    second_team = ranking[squadra2]\n",
    "    dr_first = dr_ottavi[squadra1]\n",
    "    dr_second = dr_ottavi[squadra2]\n",
    "    points_first = points[squadra1]\n",
    "    points_second = points[squadra2]\n",
    "    goals_first = total_goals[squadra1]\n",
    "    goals_second = total_goals[squadra2]\n",
    "    inf_1 = infortuni[squadra1]\n",
    "    inf_2 = infortuni[squadra2]\n",
    "   \n",
    "    first_result = (((dr_first / first_team) * points_first) - inf_1)  \n",
    "    second_result = (((dr_second / second_team) * points_second) - inf_2)\n",
    "    \n",
    "    return second_result\n",
    "\n",
    "\n",
    "def get_percentage(first1_result, second2_result, squadra1, squadra2):\n",
    "    percent_win_1 = round((100 * first1_result) / (first1_result + second2_result), 1)\n",
    "    percent_win_2 = round((100 * second2_result) / (first1_result + second2_result), 1)\n",
    "    \n",
    "    print(\"The probability of team {squadra1} achieving victory is {percent1}%\".format(squadra1=squadra1, percent1=percent_win_1)) \n",
    "    print(\"The probability of team {squadra2} achieving victory is {percent2}%\".format(squadra2=squadra2, percent2=percent_win_2))\n",
    "\n",
    "    \n",
    "def button_clicked(self):\n",
    "    squadra_one = team1.value\n",
    "    squadra_two = team2.value\n",
    "    \n",
    "    try:\n",
    "        total1 =  get_result1(squadra_one, squadra_two)\n",
    "        total2 = get_result2(squadra_one, squadra_two)\n",
    "        get_percentage(total1, total2, squadra_one, squadra_two)\n",
    "    except KeyError:\n",
    "        print(\"The team you've entered doesn't exist. Try again...\")\n",
    "        start()\n",
    "        \n",
    "def start():\n",
    "    \n",
    "    button = widgets.Button(\n",
    "        description='Click me',\n",
    "        disabled=False,\n",
    "        button_style='', # 'success', 'info', 'warning', 'danger' or ''\n",
    "        tooltip='Click me',\n",
    "        icon='check'\n",
    "    )\n",
    "    \n",
    "    display(team1)\n",
    "    display(team2)\n",
    "    display(button)\n",
    "    \n",
    "    button.on_click(button_clicked)\n",
    "#     interact(button_clicked)\n",
    "      \n",
    "start()"
   ]
  },
  {
   "cell_type": "code",
   "execution_count": null,
   "metadata": {},
   "outputs": [],
   "source": []
  }
 ],
 "metadata": {
  "colab": {
   "name": "percentage.ipynb",
   "provenance": [],
   "version": "0.3.2"
  },
  "kernelspec": {
   "display_name": "Python 3",
   "language": "python",
   "name": "python3"
  },
  "language_info": {
   "codemirror_mode": {
    "name": "ipython",
    "version": 3
   },
   "file_extension": ".py",
   "mimetype": "text/x-python",
   "name": "python",
   "nbconvert_exporter": "python",
   "pygments_lexer": "ipython3",
   "version": "3.7.4"
  }
 },
 "nbformat": 4,
 "nbformat_minor": 1
}
